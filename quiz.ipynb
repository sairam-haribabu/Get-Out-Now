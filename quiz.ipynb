{
 "cells": [
  {
   "cell_type": "code",
   "execution_count": 16,
   "metadata": {},
   "outputs": [],
   "source": [
    "from pyspark import SparkContext\n",
    "from pyspark.sql import SparkSession\n",
    "from pyspark import SparkConf\n",
    "from pyspark.sql.types import *"
   ]
  },
  {
   "cell_type": "code",
   "execution_count": 17,
   "metadata": {},
   "outputs": [],
   "source": [
    "config = SparkConf().setAppName(\"Student Data\").setMaster(\"local\")\n",
    "config.set(\"spark.default.parallelism\", \"4\")\n",
    "sc = SparkContext.getOrCreate(conf = config);\n",
    "spark = SparkSession.builder.getOrCreate()"
   ]
  },
  {
   "cell_type": "code",
   "execution_count": 18,
   "metadata": {},
   "outputs": [],
   "source": [
    "schema = StructType([StructField (\"uni\", StringType(), True),\n",
    "                     StructField (\"last_name\", StringType(), True),\n",
    "                     StructField (\"first_name\", StringType(), True),\n",
    "                     StructField(\"department_name\", StringType(), True), \n",
    "                     StructField(\"origin_country\", StringType(), True), \n",
    "                     StructField(\"gpa\", StringType(), True)])\n",
    "rdd = sc.textFile(\"./data.txt\").map(lambda field: field.split(\" \")).map(lambda field: [field[i] for i in [0, 1, 2, 3, 4]])"
   ]
  },
  {
   "cell_type": "code",
   "execution_count": 19,
   "metadata": {},
   "outputs": [
    {
     "name": "stdout",
     "output_type": "stream",
     "text": [
      "+---------+----------+---------------+--------------+------+\n",
      "|last_name|first_name|department_name|origin_country|   gpa|\n",
      "+---------+----------+---------------+--------------+------+\n",
      "|    rh123|  Haribabu|         Roshan|            CS| India|\n",
      "|    ad241|     Deets|            Ana|            EE|    US|\n",
      "|    mc231|    Cobart|       Michelle|            CS|Mexico|\n",
      "|    ax227|      Wolf|      Alexander|          IEOR|Mexico|\n",
      "|    mp309|    Petrit|         Monica|            CS|Canada|\n",
      "|    am351|  Martinez|        Alfredo|            EE| India|\n",
      "|    ar180|     Ramos|            Ave|            CS|    US|\n",
      "|    mp219|    Raymon|           Mike|          IEOR|Mexico|\n",
      "|    sg222|      Grey|            Sam|            EE|    US|\n",
      "|    cc177|  Cardenas|          Caleb|            CS| India|\n",
      "+---------+----------+---------------+--------------+------+\n",
      "\n"
     ]
    },
    {
     "name": "stderr",
     "output_type": "stream",
     "text": [
      "                                                                                \r"
     ]
    }
   ],
   "source": [
    "df = spark.createDataFrame(rdd, schema)\n",
    "df.show()"
   ]
  },
  {
   "cell_type": "code",
   "execution_count": 23,
   "metadata": {},
   "outputs": [
    {
     "name": "stderr",
     "output_type": "stream",
     "text": [
      "                                                                                \r"
     ]
    }
   ],
   "source": [
    "df.write.saveAsTable('student_table')"
   ]
  },
  {
   "cell_type": "code",
   "execution_count": 24,
   "metadata": {},
   "outputs": [
    {
     "name": "stdout",
     "output_type": "stream",
     "text": [
      "+---------+----------+---------------+--------------+---+\n",
      "|last_name|first_name|department_name|origin_country|gpa|\n",
      "+---------+----------+---------------+--------------+---+\n",
      "+---------+----------+---------------+--------------+---+\n",
      "\n"
     ]
    }
   ],
   "source": [
    "result = spark.sql(\"SELECT * FROM student_table where department_name = 'CS' and gpa > 3.75\")\n",
    "result.show()"
   ]
  },
  {
   "cell_type": "code",
   "execution_count": null,
   "metadata": {},
   "outputs": [],
   "source": [
    "result = spark.sql(\"select country, count(id) from student_schema where department_name = 'CS' and gpa > 3.75 group by country\")\n",
    "result.show()\n"
   ]
  },
  {
   "cell_type": "code",
   "execution_count": 15,
   "metadata": {},
   "outputs": [
    {
     "name": "stdout",
     "output_type": "stream",
     "text": [
      "+-------------+---+------+-----+\n",
      "|    last_name|age|gender|state|\n",
      "+-------------+---+------+-----+\n",
      "|     Haribabu| 24|     M|  NYC|\n",
      "|Koottiyaniyel| 25|     M|  NYC|\n",
      "|         Nair| 22|     F|  NYC|\n",
      "+-------------+---+------+-----+\n",
      "\n"
     ]
    }
   ],
   "source": [
    "df.filter((df.age>=21)&(df.state.contains('NYC'))).show()"
   ]
  }
 ],
 "metadata": {
  "interpreter": {
   "hash": "b0fa6594d8f4cbf19f97940f81e996739fb7646882a419484c72d19e05852a7e"
  },
  "kernelspec": {
   "display_name": "Python 3.9.10 64-bit",
   "language": "python",
   "name": "python3"
  },
  "language_info": {
   "codemirror_mode": {
    "name": "ipython",
    "version": 3
   },
   "file_extension": ".py",
   "mimetype": "text/x-python",
   "name": "python",
   "nbconvert_exporter": "python",
   "pygments_lexer": "ipython3",
   "version": "3.9.12"
  },
  "orig_nbformat": 4
 },
 "nbformat": 4,
 "nbformat_minor": 2
}
